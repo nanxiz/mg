{
 "cells": [
  {
   "cell_type": "code",
   "execution_count": 1,
   "id": "32c4c87c",
   "metadata": {
    "scrolled": true
   },
   "outputs": [
    {
     "name": "stderr",
     "output_type": "stream",
     "text": [
      "/usr/local/lib/python3.10/dist-packages/torchvision/io/image.py:13: UserWarning: Failed to load image Python extension: '/usr/local/lib/python3.10/dist-packages/torchvision/image.so: undefined symbol: _ZN3c104cuda9SetDeviceEi'If you don't plan on using image functionality from `torchvision.io`, you can ignore this warning. Otherwise, there might be something wrong with your environment. Did you have `libjpeg` or `libpng` installed before building `torchvision` from source?\n",
      "  warn(\n",
      "Seed set to 1234\n"
     ]
    },
    {
     "data": {
      "application/vnd.jupyter.widget-view+json": {
       "model_id": "0d0416c1dc8c45468c557a19b9e058c5",
       "version_major": 2,
       "version_minor": 0
      },
      "text/plain": [
       "Fetching 3 files:   0%|          | 0/3 [00:00<?, ?it/s]"
      ]
     },
     "metadata": {},
     "output_type": "display_data"
    },
    {
     "data": {
      "application/vnd.jupyter.widget-view+json": {
       "model_id": "546eefc7f06e47dca8c4b53974578c57",
       "version_major": 2,
       "version_minor": 0
      },
      "text/plain": [
       "tokenizer_config.json:   0%|          | 0.00/2.54k [00:00<?, ?B/s]"
      ]
     },
     "metadata": {},
     "output_type": "display_data"
    },
    {
     "data": {
      "application/vnd.jupyter.widget-view+json": {
       "model_id": "351f28c9e8a04ccc9855d2f47243b283",
       "version_major": 2,
       "version_minor": 0
      },
      "text/plain": [
       "spiece.model:   0%|          | 0.00/792k [00:00<?, ?B/s]"
      ]
     },
     "metadata": {},
     "output_type": "display_data"
    },
    {
     "data": {
      "application/vnd.jupyter.widget-view+json": {
       "model_id": "d63aa34983ec4d87b59fce4a25995bf9",
       "version_major": 2,
       "version_minor": 0
      },
      "text/plain": [
       "tokenizer.json:   0%|          | 0.00/2.42M [00:00<?, ?B/s]"
      ]
     },
     "metadata": {},
     "output_type": "display_data"
    },
    {
     "data": {
      "application/vnd.jupyter.widget-view+json": {
       "model_id": "8460d4d0b7d34b92be246de29cf8949a",
       "version_major": 2,
       "version_minor": 0
      },
      "text/plain": [
       "special_tokens_map.json:   0%|          | 0.00/2.20k [00:00<?, ?B/s]"
      ]
     },
     "metadata": {},
     "output_type": "display_data"
    },
    {
     "data": {
      "application/vnd.jupyter.widget-view+json": {
       "model_id": "4d9bb3219ceb4568a10fc9d601e930c6",
       "version_major": 2,
       "version_minor": 0
      },
      "text/plain": [
       "config.json:   0%|          | 0.00/1.40k [00:00<?, ?B/s]"
      ]
     },
     "metadata": {},
     "output_type": "display_data"
    },
    {
     "data": {
      "application/vnd.jupyter.widget-view+json": {
       "model_id": "09e1d5e43b2049efbd3e0fec0dd327f0",
       "version_major": 2,
       "version_minor": 0
      },
      "text/plain": [
       "model.safetensors:   0%|          | 0.00/990M [00:00<?, ?B/s]"
      ]
     },
     "metadata": {},
     "output_type": "display_data"
    },
    {
     "data": {
      "application/vnd.jupyter.widget-view+json": {
       "model_id": "63aa5bc0d77d4ebf83b1fa4acddc9d64",
       "version_major": 2,
       "version_minor": 0
      },
      "text/plain": [
       "generation_config.json:   0%|          | 0.00/147 [00:00<?, ?B/s]"
      ]
     },
     "metadata": {},
     "output_type": "display_data"
    },
    {
     "name": "stdout",
     "output_type": "stream",
     "text": [
      "['right feet high kick then wave both hands']\n",
      "['<motion_id_512><motion_id_295><motion_id_114><motion_id_245><motion_id_114><motion_id_114><motion_id_245><motion_id_114><motion_id_114><motion_id_379><motion_id_379><motion_id_9><motion_id_114><motion_id_114><motion_id_114><motion_id_114><motion_id_114><motion_id_114><motion_id_114><motion_id_245><motion_id_9><motion_id_458><motion_id_114><motion_id_114><motion_id_379><motion_id_379><motion_id_379><motion_id_114><motion_id_114><motion_id_379><motion_id_379><motion_id_114><motion_id_226><motion_id_379><motion_id_149><motion_id_124><motion_id_129><motion_id_295><motion_id_319><motion_id_379><motion_id_114><motion_id_114><motion_id_114><motion_id_114><motion_id_114><motion_id_347><motion_id_347><motion_id_379><motion_id_114><motion_id_458><motion_id_513>']\n"
     ]
    }
   ],
   "source": [
    "# run this one\n",
    "from pathlib import Path\n",
    "import pytorch_lightning as pl\n",
    "import subprocess\n",
    "from mGPT.data.build_data import build_data\n",
    "from mGPT.models.build_model import build_model\n",
    "import torch\n",
    "from huggingface_hub import snapshot_download\n",
    "from omegaconf import OmegaConf\n",
    "\n",
    "def load_cfg_from_file(file_path):\n",
    "    \"\"\"\n",
    "    Load the configuration object from a file.\n",
    "\n",
    "    Args:\n",
    "    file_path (str): The path of the file from which to load the configuration.\n",
    "\n",
    "    Returns:\n",
    "    DictConfig: The loaded configuration object.\n",
    "    \"\"\"\n",
    "    cfg = OmegaConf.load(file_path)\n",
    "    return cfg\n",
    "    \n",
    "cfg = load_cfg_from_file('./config_mix.yaml')\n",
    "\n",
    "cfg.FOLDER = 'cache'\n",
    "output_dir = Path(cfg.FOLDER)\n",
    "output_dir.mkdir(parents=True, exist_ok=True)\n",
    "pl.seed_everything(cfg.SEED_VALUE)\n",
    "if torch.cuda.is_available():\n",
    "    device = torch.device(\"cuda\")\n",
    "else:\n",
    "    device = torch.device(\"cpu\")\n",
    "\n",
    "model_path = snapshot_download(repo_id=\"bill-jiang/MotionGPT-base\")\n",
    "\n",
    "datamodule = build_data(cfg, phase=\"test\")\n",
    "model = build_model(cfg, datamodule)\n",
    "state_dict = torch.load(f'{model_path}/motiongpt_s3_h3d.tar',\n",
    "                        map_location=\"cpu\")[\"state_dict\"]\n",
    "model.load_state_dict(state_dict)\n",
    "model.to(device)\n",
    "\n",
    "#input = data_stored[-1]['user_input']\n",
    "motion_uploaded = {\n",
    "        \"feats\": None,\n",
    "        \"joints\": None,\n",
    "        \"motion_video\": None,\n",
    "        \"motion_lengths\": 0,\n",
    "        \"motion_token\": None,\n",
    "        \"motion_token_string\": '',\n",
    "        \"motion_token_length\": 0,\n",
    "    }\n",
    "motion_length, motion_token_string = motion_uploaded[\n",
    "        \"motion_lengths\"], motion_uploaded[\"motion_token_string\"]\n",
    "\n",
    "input = \"right feet high kick then wave both hands\"\n",
    "prompt = model.lm.placeholder_fulfill(input, motion_length,motion_token_string, \"\")\n",
    "batch = {\n",
    "        \"length\": [motion_length],\n",
    "        \"text\": [prompt],\n",
    "}\n",
    "\n",
    "outputs = model(batch, task=\"t2m\")"
   ]
  },
  {
   "cell_type": "code",
   "execution_count": 2,
   "id": "fdb6f88a",
   "metadata": {
    "scrolled": true
   },
   "outputs": [
    {
     "data": {
      "text/plain": [
       "{'texts': ['<Motion_Placeholder>'],\n",
       " 'feats': tensor([[[  1.9248,   0.9576,  -6.4742,  ...,   9.8800, -59.8608, -61.1447],\n",
       "          [  2.4321,   3.2078, -10.0685,  ...,   9.8921, -59.2283, -60.0052],\n",
       "          [  2.2217,   2.5871, -15.4734,  ...,   9.7138, -60.0113, -61.0589],\n",
       "          ...,\n",
       "          [  0.8327,   0.1854, -14.5749,  ...,   9.7644,  10.6365,   9.6429],\n",
       "          [  1.5885,  -0.5432, -13.6270,  ...,   9.9343,  10.6977,   9.9476],\n",
       "          [  1.2215,   1.6911, -15.0894,  ...,   9.9263,  10.8049,   9.8728]]],\n",
       "        device='cuda:0'),\n",
       " 'joints': tensor([[[[ 0.0000e+00,  9.8100e-01,  0.0000e+00],\n",
       "           [ 3.0556e-02,  8.8654e-01,  1.2800e-02],\n",
       "           [-6.2775e-02,  9.3311e-01,  7.3377e-02],\n",
       "           ...,\n",
       "           [-2.4270e-01,  1.1528e+00,  6.0705e-02],\n",
       "           [ 2.0463e-01,  1.1551e+00,  3.0819e-01],\n",
       "           [-1.3897e-01,  1.1578e+00,  3.2604e-01]],\n",
       " \n",
       "          [[ 6.1566e-04,  9.7774e-01,  4.3032e-03],\n",
       "           [ 3.7207e-02,  8.8402e-01,  1.4990e-02],\n",
       "           [-5.7021e-02,  9.2814e-01,  8.2766e-02],\n",
       "           ...,\n",
       "           [-2.4670e-01,  1.1373e+00,  7.4935e-02],\n",
       "           [ 2.0347e-01,  1.1736e+00,  2.9787e-01],\n",
       "           [-1.1898e-01,  1.1528e+00,  3.3245e-01]],\n",
       " \n",
       "          [[ 2.7547e-03,  9.7186e-01,  6.1816e-03],\n",
       "           [ 4.5622e-02,  8.7784e-01,  1.5294e-02],\n",
       "           [-6.2574e-02,  9.2096e-01,  7.6468e-02],\n",
       "           ...,\n",
       "           [-2.4584e-01,  1.1520e+00,  7.4206e-02],\n",
       "           [ 1.8629e-01,  1.1726e+00,  2.8918e-01],\n",
       "           [-1.1167e-01,  1.1465e+00,  3.0658e-01]],\n",
       " \n",
       "          ...,\n",
       " \n",
       "          [[ 1.1000e-01,  9.6550e-01, -1.9600e-01],\n",
       "           [ 1.4464e-01,  8.6367e-01, -1.8090e-01],\n",
       "           [ 1.5684e-02,  9.0966e-01, -1.5560e-01],\n",
       "           ...,\n",
       "           [-1.7019e-01,  1.1359e+00, -1.9117e-01],\n",
       "           [ 1.5949e-01,  1.1118e+00,  9.7212e-02],\n",
       "           [-1.3273e-01,  1.0920e+00,  6.1501e-02]],\n",
       " \n",
       "          [[ 1.1049e-01,  9.6481e-01, -1.9708e-01],\n",
       "           [ 1.4382e-01,  8.5998e-01, -1.7454e-01],\n",
       "           [ 1.7973e-02,  9.0804e-01, -1.4274e-01],\n",
       "           ...,\n",
       "           [-1.6395e-01,  1.1258e+00, -2.0127e-01],\n",
       "           [ 1.6314e-01,  1.1209e+00,  9.2339e-02],\n",
       "           [-1.2749e-01,  1.0843e+00,  6.0809e-02]],\n",
       " \n",
       "          [[ 1.1030e-01,  9.6245e-01, -1.9772e-01],\n",
       "           [ 1.4108e-01,  8.6375e-01, -1.7682e-01],\n",
       "           [ 1.8249e-02,  9.1160e-01, -1.4755e-01],\n",
       "           ...,\n",
       "           [-1.5516e-01,  1.1316e+00, -2.0069e-01],\n",
       "           [ 1.5663e-01,  1.1212e+00,  8.8334e-02],\n",
       "           [-1.1888e-01,  1.0809e+00,  5.7835e-02]]]], device='cuda:0'),\n",
       " 'length': [196]}"
      ]
     },
     "execution_count": 2,
     "metadata": {},
     "output_type": "execute_result"
    }
   ],
   "source": [
    "outputs"
   ]
  },
  {
   "cell_type": "code",
   "execution_count": null,
   "id": "92b53799-9e2d-4fe7-824e-e3e5df6e026a",
   "metadata": {},
   "outputs": [],
   "source": [
    "import requests, json, numpy\n",
    "\n",
    "# The URL to your endpoint\n",
    "url = \"http://localhost:9880/generate_motion\"\n",
    "\n",
    "# The data to send in the request, replace this with your actual data\n",
    "data = {\n",
    "    \"text\": \"example text prompt\"\n",
    "}\n",
    "\n",
    "# Send a POST request\n",
    "response = requests.post(url, json=data)\n",
    "\n",
    "# Check if the request was successful\n",
    "if response.status_code == 200:\n",
    "    print(\"Request was successful.\")\n",
    "    print(\"Response data:\", response.json())\n",
    "else:\n",
    "    print(\"Request failed.\")\n",
    "    print(\"Status code:\", response.status_code)\n",
    "    print(\"Response data:\", response.text)\n",
    "\n",
    "\n",
    "# Assuming 'response' is the variable containing the byte string from the server\n",
    "response_data = response.content.decode('utf-8')  # Step 1: Decode\n",
    "data = json.loads(response_data)  # Step 2: Parse\n",
    "\n",
    "# Now, 'data' is a Python dictionary containing the response.\n",
    "# You can access the 'joints' and 'length' like so:\n",
    "joints = data['joints']\n",
    "length = data['length']"
   ]
  },
  {
   "cell_type": "code",
   "execution_count": 114,
   "id": "9908af28",
   "metadata": {},
   "outputs": [],
   "source": [
    "def render_motion(data, feats, method='fast'):\n",
    "    fname = time.strftime(\"%Y-%m-%d-%H_%M_%S\", time.localtime(\n",
    "        time.time())) + str(np.random.randint(10000, 99999))\n",
    "    video_fname = fname + '.mp4'\n",
    "    feats_fname = f\"{fname}_feats\" + '.npy'\n",
    "    data_fname = f\"{fname}_joints\" + '.npy'\n",
    "    output_npy_path = os.path.join(output_dir, feats_fname)\n",
    "    output_joints_path = os.path.join(output_dir, data_fname)\n",
    "    output_mp4_path = os.path.join(output_dir, video_fname)\n",
    "    np.save(output_npy_path, feats)\n",
    "    np.save(output_joints_path, data)\n",
    "    \n",
    "    render_cmd = [\"python\", \"-m\", \"render\", \"--joints_path\", output_joints_path, \"--method\", method, \"--output_mp4_path\", output_mp4_path, \"--smpl_model_path\", cfg.RENDER.SMPL_MODEL_PATH]\n",
    "    os.system(\" \".join(render_cmd))\n",
    "    # subprocess.run(cmd3)\n",
    "    \n",
    "    return output_mp4_path, video_fname, output_npy_path, feats_fname\n",
    "    "
   ]
  },
  {
   "cell_type": "code",
   "execution_count": 115,
   "id": "4d24c28b",
   "metadata": {},
   "outputs": [],
   "source": [
    "#method = either[\"slow\", \"fast\"]\n",
    "method = 'slow'"
   ]
  },
  {
   "cell_type": "code",
   "execution_count": 116,
   "id": "63dfaa37",
   "metadata": {},
   "outputs": [
    {
     "data": {
      "text/plain": [
       "188"
      ]
     },
     "execution_count": 116,
     "metadata": {},
     "output_type": "execute_result"
    }
   ],
   "source": [
    "out_lengths = outputs[\"length\"][0]\n",
    "out_lengths"
   ]
  },
  {
   "cell_type": "code",
   "execution_count": 117,
   "id": "44abf066",
   "metadata": {},
   "outputs": [],
   "source": [
    "out_joints = outputs[\"joints\"][:out_lengths].detach().cpu().numpy()"
   ]
  },
  {
   "cell_type": "code",
   "execution_count": 124,
   "id": "c4ae7918",
   "metadata": {},
   "outputs": [],
   "source": [
    "# 将 ndarray 转换为 list\n",
    "outputs_joints_list = outputs[\"joints\"][:out_lengths].tolist()\n",
    "\n",
    "# 将 list 保存为 JSON 文件\n",
    "with open('mgpt_outputs_joints_list.json', 'w') as f:\n",
    "    json.dump(outputs_joints_list, f)"
   ]
  },
  {
   "cell_type": "code",
   "execution_count": 118,
   "id": "2bcc9c1b",
   "metadata": {},
   "outputs": [
    {
     "name": "stdout",
     "output_type": "stream",
     "text": [
      "WARNING: You are using a SMPL model, with only 10 shape coefficients.\n",
      "Moviepy - Building video cache/2024-01-14-02_41_1628163.mp4.\n",
      "Moviepy - Writing video cache/2024-01-14-02_41_1628163.mp4\n",
      "\n"
     ]
    },
    {
     "name": "stderr",
     "output_type": "stream",
     "text": [
      "                                                               \r"
     ]
    },
    {
     "name": "stdout",
     "output_type": "stream",
     "text": [
      "Moviepy - Done !\n",
      "Moviepy - video ready cache/2024-01-14-02_41_1628163.mp4\n"
     ]
    },
    {
     "data": {
      "text/plain": [
       "('cache/2024-01-14-02_41_1628163.mp4',\n",
       " '2024-01-14-02_41_1628163.mp4',\n",
       " 'cache/2024-01-14-02_41_1628163_feats.npy',\n",
       " '2024-01-14-02_41_1628163_feats.npy')"
      ]
     },
     "execution_count": 118,
     "metadata": {},
     "output_type": "execute_result"
    }
   ],
   "source": [
    "import time\n",
    "import numpy as np\n",
    "import os\n",
    "render_motion(\n",
    "        out_joints,\n",
    "        outputs[\"feats\"].to('cpu').numpy(), method)"
   ]
  },
  {
   "cell_type": "code",
   "execution_count": 125,
   "id": "403b4dad",
   "metadata": {},
   "outputs": [
    {
     "data": {
      "text/plain": [
       "(1, 188, 22, 3)"
      ]
     },
     "execution_count": 125,
     "metadata": {},
     "output_type": "execute_result"
    }
   ],
   "source": [
    "out_joints.shape"
   ]
  },
  {
   "cell_type": "code",
   "execution_count": 126,
   "id": "ff26f7f6",
   "metadata": {},
   "outputs": [],
   "source": [
    "import OpenGL.GL as gl\n",
    "import imageio\n",
    "import cv2\n",
    "import random\n",
    "import torch\n",
    "import moviepy.editor as mp\n",
    "from scipy.spatial.transform import Rotation as RRR\n",
    "import mGPT.render.matplot.plot_3d_global as plot_3d\n",
    "from mGPT.render.pyrender.hybrik_loc2rot import HybrIKJointsToRotmat\n",
    "from mGPT.render.pyrender.smpl_render import SMPLRender"
   ]
  },
  {
   "cell_type": "code",
   "execution_count": 127,
   "id": "4b48309e",
   "metadata": {},
   "outputs": [],
   "source": [
    "data = out_joints.copy()"
   ]
  },
  {
   "cell_type": "code",
   "execution_count": 128,
   "id": "f298590d",
   "metadata": {},
   "outputs": [],
   "source": [
    "        if len(data.shape) == 4:\n",
    "            data = data[0]\n"
   ]
  },
  {
   "cell_type": "code",
   "execution_count": 130,
   "id": "51319e2a",
   "metadata": {},
   "outputs": [],
   "source": [
    "data = data - data[0,0]"
   ]
  },
  {
   "cell_type": "code",
   "execution_count": 131,
   "id": "94f6cca4",
   "metadata": {
    "scrolled": true
   },
   "outputs": [
    {
     "data": {
      "text/plain": [
       "(188, 22, 3)"
      ]
     },
     "execution_count": 131,
     "metadata": {},
     "output_type": "execute_result"
    }
   ],
   "source": [
    "data.shape"
   ]
  },
  {
   "cell_type": "code",
   "execution_count": 132,
   "id": "51f7cbd0",
   "metadata": {},
   "outputs": [],
   "source": [
    "pose_generator = HybrIKJointsToRotmat()"
   ]
  },
  {
   "cell_type": "code",
   "execution_count": 133,
   "id": "f9bdf7e1",
   "metadata": {},
   "outputs": [],
   "source": [
    "pose = pose_generator(data)"
   ]
  },
  {
   "cell_type": "code",
   "execution_count": 137,
   "id": "a08ebdfe",
   "metadata": {},
   "outputs": [],
   "source": [
    "\n",
    "# 将 ndarray 转换为 list\n",
    "outputs_pose_rot_matrix_list = pose.tolist()\n",
    "\n",
    "# 将 list 保存为 JSON 文件\n",
    "with open('mgpt_outputs_pose_rot_matrix_list.json', 'w') as f:\n",
    "    json.dump(outputs_pose_rot_matrix_list, f)"
   ]
  },
  {
   "cell_type": "code",
   "execution_count": 134,
   "id": "a872a6f5",
   "metadata": {},
   "outputs": [
    {
     "data": {
      "text/plain": [
       "(188, 22, 3, 3)"
      ]
     },
     "execution_count": 134,
     "metadata": {},
     "output_type": "execute_result"
    }
   ],
   "source": [
    "pose.shape"
   ]
  },
  {
   "cell_type": "code",
   "execution_count": 135,
   "id": "ac536e75",
   "metadata": {},
   "outputs": [
    {
     "data": {
      "text/plain": [
       "array([[ 0.84523808,  0.02547463,  0.53378239],\n",
       "       [-0.34008805,  0.7961213 ,  0.5005307 ],\n",
       "       [-0.41220469, -0.60460062,  0.68157566]])"
      ]
     },
     "execution_count": 135,
     "metadata": {},
     "output_type": "execute_result"
    }
   ],
   "source": [
    "pose[0][0]"
   ]
  },
  {
   "cell_type": "code",
   "execution_count": 60,
   "id": "df65729e",
   "metadata": {},
   "outputs": [
    {
     "data": {
      "text/plain": [
       "(168, 2, 3, 3)"
      ]
     },
     "execution_count": 60,
     "metadata": {},
     "output_type": "execute_result"
    }
   ],
   "source": [
    "# for finger tips, \n",
    "# np.stack([np.stack([np.eye(3)] * pose.shape[0], 0)] * 2, 1).shape"
   ]
  },
  {
   "cell_type": "code",
   "execution_count": 62,
   "id": "b6988e0b",
   "metadata": {},
   "outputs": [
    {
     "data": {
      "text/plain": [
       "(168, 3, 3)"
      ]
     },
     "execution_count": 62,
     "metadata": {},
     "output_type": "execute_result"
    }
   ],
   "source": [
    "#给root rotation 在x轴上翻转180度\n",
    "# r = RRR.from_rotvec(np.array([np.pi, 0.0, 0.0]))\n",
    "# pose[:, 0] = np.matmul(r.as_matrix().reshape(1, 3, 3), pose[:, 0])"
   ]
  },
  {
   "cell_type": "code",
   "execution_count": 136,
   "id": "4c149ad9",
   "metadata": {},
   "outputs": [],
   "source": [
    "#各个joint的老母\n",
    "parents = [0, 0, 0, 0, 1, 2, 3, 4, 5, 6, 7, 8, 9, 9, 9, 12, 13, 14, 16, 17, 18, 19]"
   ]
  },
  {
   "cell_type": "code",
   "execution_count": 65,
   "id": "fd0ba5cb",
   "metadata": {},
   "outputs": [
    {
     "data": {
      "text/plain": [
       "(168, 22, 3)"
      ]
     },
     "execution_count": 65,
     "metadata": {},
     "output_type": "execute_result"
    }
   ],
   "source": [
    "data[:,parents].shape"
   ]
  },
  {
   "cell_type": "code",
   "execution_count": null,
   "id": "2cf1bb36",
   "metadata": {},
   "outputs": [],
   "source": [
    "#每个减去老母（如果有老母）的位置\n",
    "#joints_rel = joints - joints[:, self.parents]\n",
    "#->data = data - data[:, parents]"
   ]
  },
  {
   "cell_type": "code",
   "execution_count": 138,
   "id": "b01b97d0",
   "metadata": {
    "scrolled": true
   },
   "outputs": [
    {
     "data": {
      "text/plain": [
       "array([[[[ 8.45238077e-01,  2.54746348e-02,  5.33782386e-01],\n",
       "         [-3.40088054e-01,  7.96121303e-01,  5.00530704e-01],\n",
       "         [-4.12204692e-01, -6.04600623e-01,  6.81575659e-01]],\n",
       "\n",
       "        [[ 9.56222762e-01, -2.73963064e-01,  1.02870158e-01],\n",
       "         [ 2.91101238e-01,  8.54490289e-01, -4.30239950e-01],\n",
       "         [ 2.99683041e-02,  4.41350864e-01,  8.96834051e-01]],\n",
       "\n",
       "        [[ 8.66053509e-01,  3.15664930e-01,  3.87694430e-01],\n",
       "         [-4.62149590e-01,  2.09671855e-01,  8.61658557e-01],\n",
       "         [ 1.90706778e-01, -9.25415239e-01,  3.27471464e-01]],\n",
       "\n",
       "        ...,\n",
       "\n",
       "        [[-6.29496691e-01,  2.35637953e-01,  7.40411150e-01],\n",
       "         [-1.25278460e-01,  9.09658704e-01, -3.96013068e-01],\n",
       "         [-7.66837155e-01, -3.42046484e-01, -5.43106785e-01]],\n",
       "\n",
       "        [[ 1.00000000e+00,  0.00000000e+00,  0.00000000e+00],\n",
       "         [ 0.00000000e+00,  1.00000000e+00,  0.00000000e+00],\n",
       "         [ 0.00000000e+00,  0.00000000e+00,  1.00000000e+00]],\n",
       "\n",
       "        [[ 1.00000000e+00,  0.00000000e+00,  0.00000000e+00],\n",
       "         [ 0.00000000e+00,  1.00000000e+00,  0.00000000e+00],\n",
       "         [ 0.00000000e+00,  0.00000000e+00,  1.00000000e+00]]],\n",
       "\n",
       "\n",
       "       [[[ 8.43042505e-01, -7.42281972e-03,  5.37795721e-01],\n",
       "         [-2.91490494e-01,  8.34019902e-01,  4.68448605e-01],\n",
       "         [-4.52009544e-01, -5.51684425e-01,  7.00950546e-01]],\n",
       "\n",
       "        [[ 9.81176360e-01, -1.83001287e-01,  6.16723558e-02],\n",
       "         [ 1.93063127e-01,  9.22234757e-01, -3.34977135e-01],\n",
       "         [ 4.42485668e-03,  3.40578304e-01,  9.40205743e-01]],\n",
       "\n",
       "        [[ 8.00919570e-01,  4.06096430e-01,  4.40015377e-01],\n",
       "         [-5.45552575e-01,  1.92047618e-01,  8.15775766e-01],\n",
       "         [ 2.46779721e-01, -8.93422298e-01,  3.75361649e-01]],\n",
       "\n",
       "        ...,\n",
       "\n",
       "        [[-6.12805087e-01,  4.01701243e-01,  6.80518947e-01],\n",
       "         [-2.94339169e-01,  6.83167593e-01, -6.68316163e-01],\n",
       "         [-7.33371924e-01, -6.09850926e-01, -3.00412166e-01]],\n",
       "\n",
       "        [[ 1.00000000e+00,  0.00000000e+00,  0.00000000e+00],\n",
       "         [ 0.00000000e+00,  1.00000000e+00,  0.00000000e+00],\n",
       "         [ 0.00000000e+00,  0.00000000e+00,  1.00000000e+00]],\n",
       "\n",
       "        [[ 1.00000000e+00,  0.00000000e+00,  0.00000000e+00],\n",
       "         [ 0.00000000e+00,  1.00000000e+00,  0.00000000e+00],\n",
       "         [ 0.00000000e+00,  0.00000000e+00,  1.00000000e+00]]],\n",
       "\n",
       "\n",
       "       [[[ 9.06594734e-01,  3.28985588e-03,  4.21989531e-01],\n",
       "         [-2.05270480e-01,  8.77136292e-01,  4.34161208e-01],\n",
       "         [-3.68714005e-01, -4.80230259e-01,  7.95882454e-01]],\n",
       "\n",
       "        [[ 9.91681230e-01, -1.20734234e-01,  4.46271625e-02],\n",
       "         [ 1.28547219e-01,  9.46793873e-01, -2.95054191e-01],\n",
       "         [-6.62958246e-03,  2.98336400e-01,  9.54437762e-01]],\n",
       "\n",
       "        [[ 9.00022419e-01,  2.62286053e-01,  3.48088598e-01],\n",
       "         [-4.09071597e-01,  2.32756682e-01,  8.82317831e-01],\n",
       "         [ 1.50399714e-01, -9.36498987e-01,  3.16780007e-01]],\n",
       "\n",
       "        ...,\n",
       "\n",
       "        [[-6.22411024e-01,  3.44200563e-01,  7.02944159e-01],\n",
       "         [-2.34179472e-01,  7.75075859e-01, -5.86870844e-01],\n",
       "         [-7.46836323e-01, -5.29889974e-01, -4.01811053e-01]],\n",
       "\n",
       "        [[ 1.00000000e+00,  0.00000000e+00,  0.00000000e+00],\n",
       "         [ 0.00000000e+00,  1.00000000e+00,  0.00000000e+00],\n",
       "         [ 0.00000000e+00,  0.00000000e+00,  1.00000000e+00]],\n",
       "\n",
       "        [[ 1.00000000e+00,  0.00000000e+00,  0.00000000e+00],\n",
       "         [ 0.00000000e+00,  1.00000000e+00,  0.00000000e+00],\n",
       "         [ 0.00000000e+00,  0.00000000e+00,  1.00000000e+00]]],\n",
       "\n",
       "\n",
       "       ...,\n",
       "\n",
       "\n",
       "       [[[ 9.75846570e-01, -5.03237238e-03, -2.18399053e-01],\n",
       "         [ 2.08224053e-02,  9.97325589e-01,  7.00578086e-02],\n",
       "         [ 2.17462407e-01, -7.29132659e-02,  9.73341542e-01]],\n",
       "\n",
       "        [[ 9.63232028e-01, -2.67499209e-01, -2.50645887e-02],\n",
       "         [ 2.68668515e-01,  9.58628397e-01,  9.40681979e-02],\n",
       "         [-1.13554206e-03, -9.73435669e-02,  9.95250190e-01]],\n",
       "\n",
       "        [[ 9.77535611e-01,  2.09034901e-01, -2.69914845e-02],\n",
       "         [-2.10687467e-01,  9.65515252e-01, -1.52941456e-01],\n",
       "         [-5.90941204e-03,  1.55192487e-01,  9.87866575e-01]],\n",
       "\n",
       "        ...,\n",
       "\n",
       "        [[-4.92554133e-01,  4.50492442e-01,  7.44611970e-01],\n",
       "         [-3.51926110e-01,  6.79418796e-01, -6.43846342e-01],\n",
       "         [-7.95951279e-01, -5.79177571e-01, -1.76110484e-01]],\n",
       "\n",
       "        [[ 1.00000000e+00,  0.00000000e+00,  0.00000000e+00],\n",
       "         [ 0.00000000e+00,  1.00000000e+00,  0.00000000e+00],\n",
       "         [ 0.00000000e+00,  0.00000000e+00,  1.00000000e+00]],\n",
       "\n",
       "        [[ 1.00000000e+00,  0.00000000e+00,  0.00000000e+00],\n",
       "         [ 0.00000000e+00,  1.00000000e+00,  0.00000000e+00],\n",
       "         [ 0.00000000e+00,  0.00000000e+00,  1.00000000e+00]]],\n",
       "\n",
       "\n",
       "       [[[ 9.67567773e-01, -1.18374099e-02, -2.52334067e-01],\n",
       "         [ 3.04591711e-02,  9.97080449e-01,  7.00201231e-02],\n",
       "         [ 2.50768508e-01, -7.54351011e-02,  9.65103467e-01]],\n",
       "\n",
       "        [[ 9.64724474e-01, -2.62487251e-01, -2.01775155e-02],\n",
       "         [ 2.63261629e-01,  9.61868387e-01,  7.41789793e-02],\n",
       "         [-6.29220677e-05, -7.68742424e-02,  9.97040795e-01]],\n",
       "\n",
       "        [[ 9.76365306e-01,  2.14627461e-01, -2.54134095e-02],\n",
       "         [-2.16032627e-01,  9.65698990e-01, -1.44067221e-01],\n",
       "         [-6.37907795e-03,  1.46152362e-01,  9.89241525e-01]],\n",
       "\n",
       "        ...,\n",
       "\n",
       "        [[-5.08947451e-01,  4.87150437e-01,  7.09687920e-01],\n",
       "         [-3.89920652e-01,  6.04549505e-01, -6.94609085e-01],\n",
       "         [-7.67420600e-01, -6.30241500e-01, -1.17733913e-01]],\n",
       "\n",
       "        [[ 1.00000000e+00,  0.00000000e+00,  0.00000000e+00],\n",
       "         [ 0.00000000e+00,  1.00000000e+00,  0.00000000e+00],\n",
       "         [ 0.00000000e+00,  0.00000000e+00,  1.00000000e+00]],\n",
       "\n",
       "        [[ 1.00000000e+00,  0.00000000e+00,  0.00000000e+00],\n",
       "         [ 0.00000000e+00,  1.00000000e+00,  0.00000000e+00],\n",
       "         [ 0.00000000e+00,  0.00000000e+00,  1.00000000e+00]]],\n",
       "\n",
       "\n",
       "       [[[ 9.67426797e-01, -3.43800228e-02, -2.50805517e-01],\n",
       "         [ 4.83276062e-02,  9.97596067e-01,  4.96641614e-02],\n",
       "         [ 2.48495142e-01, -6.01672708e-02,  9.66762672e-01]],\n",
       "\n",
       "        [[ 9.68791592e-01, -2.46919018e-01, -2.17680874e-02],\n",
       "         [ 2.47876685e-01,  9.65042938e-01,  8.51426896e-02],\n",
       "         [-1.62102777e-05, -8.78813232e-02,  9.96130952e-01]],\n",
       "\n",
       "        [[ 9.72647595e-01,  2.31233799e-01, -2.20813497e-02],\n",
       "         [-2.32160158e-01,  9.64594326e-01, -1.25137714e-01],\n",
       "         [-7.63652423e-03,  1.26841306e-01,  9.91893627e-01]],\n",
       "\n",
       "        ...,\n",
       "\n",
       "        [[-5.32033030e-01,  4.63909655e-01,  7.08328093e-01],\n",
       "         [-3.64066418e-01,  6.29940590e-01, -6.86025143e-01],\n",
       "         [-7.64458304e-01, -6.22866506e-01, -1.66255274e-01]],\n",
       "\n",
       "        [[ 1.00000000e+00,  0.00000000e+00,  0.00000000e+00],\n",
       "         [ 0.00000000e+00,  1.00000000e+00,  0.00000000e+00],\n",
       "         [ 0.00000000e+00,  0.00000000e+00,  1.00000000e+00]],\n",
       "\n",
       "        [[ 1.00000000e+00,  0.00000000e+00,  0.00000000e+00],\n",
       "         [ 0.00000000e+00,  1.00000000e+00,  0.00000000e+00],\n",
       "         [ 0.00000000e+00,  0.00000000e+00,  1.00000000e+00]]]])"
      ]
     },
     "execution_count": 138,
     "metadata": {},
     "output_type": "execute_result"
    }
   ],
   "source": [
    "pose"
   ]
  },
  {
   "cell_type": "code",
   "execution_count": null,
   "id": "12242758",
   "metadata": {},
   "outputs": [],
   "source": [
    "# righthip-2 test"
   ]
  },
  {
   "cell_type": "code",
   "execution_count": 139,
   "id": "de18086e",
   "metadata": {},
   "outputs": [
    {
     "data": {
      "text/plain": [
       "array([[ 0.86605351,  0.31566493,  0.38769443],\n",
       "       [-0.46214959,  0.20967185,  0.86165856],\n",
       "       [ 0.19070678, -0.92541524,  0.32747146]])"
      ]
     },
     "execution_count": 139,
     "metadata": {},
     "output_type": "execute_result"
    }
   ],
   "source": [
    "rh_0 = pose[0,2]\n",
    "rh_0"
   ]
  },
  {
   "cell_type": "code",
   "execution_count": 140,
   "id": "a779b52b",
   "metadata": {},
   "outputs": [
    {
     "data": {
      "text/plain": [
       "array([[ 0.80091957,  0.40609643,  0.44001538],\n",
       "       [-0.54555257,  0.19204762,  0.81577577],\n",
       "       [ 0.24677972, -0.8934223 ,  0.37536165]])"
      ]
     },
     "execution_count": 140,
     "metadata": {},
     "output_type": "execute_result"
    }
   ],
   "source": [
    "rh_1 = pose[1,2]\n",
    "rh_1"
   ]
  },
  {
   "cell_type": "code",
   "execution_count": 141,
   "id": "98650aa6",
   "metadata": {},
   "outputs": [],
   "source": [
    "from scipy.spatial.transform import Rotation as R\n",
    "\n",
    "# 将旋转矩阵转换为四元数\n",
    "rh_0_rotation = R.from_matrix(rh_0)\n",
    "rh_0_quaternion = rh_0_rotation.as_quat()"
   ]
  },
  {
   "cell_type": "code",
   "execution_count": 143,
   "id": "346bd063",
   "metadata": {},
   "outputs": [],
   "source": [
    "rh_1_rotation = R.from_matrix(rh_1)\n",
    "rh_1_quaternion = rh_1_rotation.as_quat()"
   ]
  },
  {
   "cell_type": "code",
   "execution_count": 142,
   "id": "97b28a43",
   "metadata": {},
   "outputs": [
    {
     "data": {
      "text/plain": [
       "array([-0.57639184,  0.06353519, -0.25087153,  0.77511238])"
      ]
     },
     "execution_count": 142,
     "metadata": {},
     "output_type": "execute_result"
    }
   ],
   "source": [
    "#xyzw\n",
    "rh_0_quaternion"
   ]
  },
  {
   "cell_type": "code",
   "execution_count": 144,
   "id": "5d5e8d00",
   "metadata": {},
   "outputs": [
    {
     "data": {
      "text/plain": [
       "array([-0.55531755,  0.06278216, -0.30919026,  0.76946878])"
      ]
     },
     "execution_count": 144,
     "metadata": {},
     "output_type": "execute_result"
    }
   ],
   "source": [
    "rh_1_quaternion"
   ]
  },
  {
   "cell_type": "code",
   "execution_count": 79,
   "id": "7bacae86",
   "metadata": {},
   "outputs": [
    {
     "name": "stderr",
     "output_type": "stream",
     "text": [
      "huggingface/tokenizers: The current process just got forked, after parallelism has already been used. Disabling parallelism to avoid deadlocks...\n",
      "To disable this warning, you can either:\n",
      "\t- Avoid using `tokenizers` before the fork if possible\n",
      "\t- Explicitly set the environment variable TOKENIZERS_PARALLELISM=(true | false)\n"
     ]
    },
    {
     "name": "stdout",
     "output_type": "stream",
     "text": [
      "Collecting pyrr\n",
      "  Downloading pyrr-0.10.3-py3-none-any.whl (46 kB)\n",
      "\u001b[2K     \u001b[90m━━━━━━━━━━━━━━━━━━━━━━━━━━━━━━━━━━━━━━━━\u001b[0m \u001b[32m46.8/46.8 kB\u001b[0m \u001b[31m1.8 MB/s\u001b[0m eta \u001b[36m0:00:00\u001b[0m\n",
      "\u001b[?25hRequirement already satisfied: numpy in /usr/local/lib/python3.10/dist-packages (from pyrr) (1.23.1)\n",
      "Collecting multipledispatch (from pyrr)\n",
      "  Downloading multipledispatch-1.0.0-py3-none-any.whl.metadata (3.8 kB)\n",
      "Downloading multipledispatch-1.0.0-py3-none-any.whl (12 kB)\n",
      "Installing collected packages: multipledispatch, pyrr\n",
      "Successfully installed multipledispatch-1.0.0 pyrr-0.10.3\n",
      "\u001b[33mWARNING: Running pip as the 'root' user can result in broken permissions and conflicting behaviour with the system package manager. It is recommended to use a virtual environment instead: https://pip.pypa.io/warnings/venv\u001b[0m\u001b[33m\n",
      "\u001b[0m\n",
      "\u001b[1m[\u001b[0m\u001b[34;49mnotice\u001b[0m\u001b[1;39;49m]\u001b[0m\u001b[39;49m A new release of pip is available: \u001b[0m\u001b[31;49m23.3.1\u001b[0m\u001b[39;49m -> \u001b[0m\u001b[32;49m23.3.2\u001b[0m\n",
      "\u001b[1m[\u001b[0m\u001b[34;49mnotice\u001b[0m\u001b[1;39;49m]\u001b[0m\u001b[39;49m To update, run: \u001b[0m\u001b[32;49mpython -m pip install --upgrade pip\u001b[0m\n"
     ]
    }
   ],
   "source": [
    "!pip install pyrr"
   ]
  },
  {
   "cell_type": "code",
   "execution_count": 80,
   "id": "06bb066e",
   "metadata": {},
   "outputs": [],
   "source": [
    "import pyrr"
   ]
  },
  {
   "cell_type": "code",
   "execution_count": 145,
   "id": "4e420fc5",
   "metadata": {},
   "outputs": [
    {
     "data": {
      "text/plain": [
       "array([ 0.57639184, -0.06353519,  0.25087153,  0.77511238])"
      ]
     },
     "execution_count": 145,
     "metadata": {},
     "output_type": "execute_result"
    }
   ],
   "source": [
    "rh_0_quaternion_inv = pyrr.quaternion.inverse(rh_0_quaternion)\n",
    "rh_0_quaternion_inv"
   ]
  },
  {
   "cell_type": "code",
   "execution_count": 146,
   "id": "bfca09fc",
   "metadata": {},
   "outputs": [
    {
     "data": {
      "text/plain": [
       "array([-0.57639184,  0.06353519, -0.25087153,  0.77511238])"
      ]
     },
     "execution_count": 146,
     "metadata": {},
     "output_type": "execute_result"
    }
   ],
   "source": [
    "rh_0_quaternion"
   ]
  },
  {
   "cell_type": "code",
   "execution_count": 147,
   "id": "f7f726a0",
   "metadata": {},
   "outputs": [
    {
     "data": {
      "text/plain": [
       "array([ 0.57639184, -0.06353519,  0.25087153,  0.77511238])"
      ]
     },
     "execution_count": 147,
     "metadata": {},
     "output_type": "execute_result"
    }
   ],
   "source": [
    "#verified\n",
    "def quaternion_inverse_xyzw(quaternion):\n",
    "    \"\"\"\n",
    "    计算以 [x, y, z, w] 形式表示的四元数的逆。\n",
    "    :param quaternion: 四元数，格式为 [x, y, z, w]\n",
    "    :return: 四元数的逆\n",
    "    \"\"\"\n",
    "    # 提取四元数的各个分量\n",
    "    x, y, z, w = quaternion\n",
    "\n",
    "    # 计算四元数的范数的平方\n",
    "    norm_squared = x * x + y * y + z * z + w * w\n",
    "\n",
    "    # 计算逆四元数\n",
    "    inverse_quaternion = np.array([-x, -y, -z, w]) / norm_squared\n",
    "\n",
    "    return inverse_quaternion\n",
    "rh_0_quaternion_inv = quaternion_inverse_xyzw(rh_0_quaternion)\n",
    "rh_0_quaternion_inv"
   ]
  },
  {
   "cell_type": "code",
   "execution_count": 148,
   "id": "b5a3fb9b",
   "metadata": {},
   "outputs": [
    {
     "name": "stdout",
     "output_type": "stream",
     "text": [
      "Result of quaternion multiplication: [0.009187813789874138, -0.039126491774203104, -0.04752430535941932, 0.9980611915705924]\n"
     ]
    }
   ],
   "source": [
    "#verified\n",
    "def multiply_quaternions(q1, q2):\n",
    "    \"\"\"\n",
    "    Multiply two quaternions.\n",
    "    Quaternion format: [x, y, z, w]\n",
    "\n",
    "    :param q1: Quaternion 1 as [x, y, z, w]\n",
    "    :param q2: Quaternion 2 as [x, y, z, w]\n",
    "    :return: Resultant quaternion of multiplication\n",
    "    \"\"\"\n",
    "    x1, y1, z1, w1 = q1\n",
    "    x2, y2, z2, w2 = q2\n",
    "\n",
    "    qx = w1*x2 + x1*w2 + y1*z2 - z1*y2\n",
    "    qy = w1*y2 - x1*z2 + y1*w2 + z1*x2\n",
    "    qz = w1*z2 + x1*y2 - y1*x2 + z1*w2\n",
    "    qw = w1*w2 - x1*x2 - y1*y2 - z1*z2\n",
    "\n",
    "    return [qx, qy, qz, qw]\n",
    "\n",
    "result = multiply_quaternions(rh_1_quaternion, rh_0_quaternion_inv)\n",
    "print(\"Result of quaternion multiplication:\", result)"
   ]
  },
  {
   "cell_type": "code",
   "execution_count": 150,
   "id": "12e8eb4b",
   "metadata": {},
   "outputs": [
    {
     "data": {
      "text/plain": [
       "array([ 0.00918781, -0.03912649, -0.04752431,  0.99806119])"
      ]
     },
     "execution_count": 150,
     "metadata": {},
     "output_type": "execute_result"
    }
   ],
   "source": [
    "pyrr.quaternion.cross(rh_1_quaternion, rh_0_quaternion_inv)"
   ]
  },
  {
   "cell_type": "code",
   "execution_count": 95,
   "id": "765306aa",
   "metadata": {},
   "outputs": [],
   "source": [
    "#verified\n",
    "def quaternion_to_unity_euler_xyz_wxyz(quaternion):\n",
    "    # Ensure quaternion is in the format (w, x, y, z)\n",
    "    w, x, y, z = quaternion\n",
    "    # Create a Rotation object\n",
    "    rotation = R.from_quat([x, y, z, w])\n",
    "    # Convert to Euler angles in radians\n",
    "    euler_radians = rotation.as_euler('xyz', degrees=False)\n",
    "    # Convert radians to degrees, as Unity uses degrees\n",
    "    euler_degrees = np.degrees(euler_radians)\n",
    "    return euler_degrees"
   ]
  },
  {
   "cell_type": "code",
   "execution_count": 96,
   "id": "f84e96c7",
   "metadata": {},
   "outputs": [
    {
     "data": {
      "text/plain": [
       "array([-2.06050588e+00, -4.54771650e-03,  1.78982332e+02])"
      ]
     },
     "execution_count": 96,
     "metadata": {},
     "output_type": "execute_result"
    }
   ],
   "source": [
    "quaternion_to_unity_euler_xyz_wxyz([ 0.00888,-0.00012, -0.01798, 0.99980])"
   ]
  },
  {
   "cell_type": "code",
   "execution_count": 100,
   "id": "fdacb084",
   "metadata": {},
   "outputs": [
    {
     "data": {
      "text/plain": [
       "178.982332"
      ]
     },
     "execution_count": 100,
     "metadata": {},
     "output_type": "execute_result"
    }
   ],
   "source": [
    "1.78982332e+02"
   ]
  },
  {
   "cell_type": "code",
   "execution_count": 151,
   "id": "50a18abe",
   "metadata": {},
   "outputs": [],
   "source": [
    "# verified\n",
    "from scipy.spatial.transform import Rotation as R\n",
    "\n",
    "# Assuming pose is your input array with shape (n, 22, 3, 3)\n",
    "\n",
    "# Validate the shape of the array\n",
    "if pose.shape[1:] != (22, 3, 3):\n",
    "    raise ValueError(\"Invalid shape of the input array. Expected (n, 22, 3, 3)\")\n",
    "\n",
    "# Initialize the output array\n",
    "n = pose.shape[0]\n",
    "quaternions = np.empty((n, 22, 4))\n",
    "\n",
    "# Convert each rotation matrix to a quaternion\n",
    "for i in range(n):\n",
    "    for j in range(22):\n",
    "        rotation_matrix = pose[i, j]\n",
    "        quaternion = R.from_matrix(rotation_matrix).as_quat()\n",
    "        quaternions[i, j] = quaternion"
   ]
  },
  {
   "cell_type": "code",
   "execution_count": 155,
   "id": "1630ff7f",
   "metadata": {},
   "outputs": [
    {
     "data": {
      "text/plain": [
       "array([-0.55531755,  0.06278216, -0.30919026,  0.76946878])"
      ]
     },
     "execution_count": 155,
     "metadata": {},
     "output_type": "execute_result"
    }
   ],
   "source": [
    "quaternions[1][2]"
   ]
  },
  {
   "cell_type": "code",
   "execution_count": 156,
   "id": "9c6f0926",
   "metadata": {},
   "outputs": [],
   "source": [
    "# 将 ndarray 转换为 list\n",
    "outputs_quaternions_list = quaternions.tolist()\n",
    "\n",
    "# 将 list 保存为 JSON 文件\n",
    "with open('mgpt_outputs_quaternions_list.json', 'w') as f:\n",
    "    json.dump(outputs_quaternions_list, f)"
   ]
  },
  {
   "cell_type": "code",
   "execution_count": 159,
   "id": "d2d84a48",
   "metadata": {},
   "outputs": [],
   "source": [
    "def calculate_rot_diff(array):\n",
    "    n, num_joints, _ = array.shape\n",
    "    rot_diff = np.zeros((n-1, num_joints, 4))\n",
    "\n",
    "    for i in range(n-1):\n",
    "        for j in range(num_joints):\n",
    "            quat_prev = array[i, j]\n",
    "            quat_curr = array[i+1, j]\n",
    "            quat_prev_inv = quaternion_inverse_xyzw(quat_prev)\n",
    "            rot_diff[i, j] = multiply_quaternions(quat_curr, quat_prev_inv)\n",
    "\n",
    "    return rot_diff"
   ]
  },
  {
   "cell_type": "code",
   "execution_count": 160,
   "id": "9899f441",
   "metadata": {},
   "outputs": [],
   "source": [
    "quat_diff = calculate_rot_diff(quaternions)"
   ]
  },
  {
   "cell_type": "code",
   "execution_count": 162,
   "id": "18250889",
   "metadata": {},
   "outputs": [
    {
     "data": {
      "text/plain": [
       "(187, 22, 4)"
      ]
     },
     "execution_count": 162,
     "metadata": {},
     "output_type": "execute_result"
    }
   ],
   "source": [
    "quat_diff.shape"
   ]
  },
  {
   "cell_type": "code",
   "execution_count": 163,
   "id": "16b5426f",
   "metadata": {},
   "outputs": [
    {
     "data": {
      "text/plain": [
       "array([ 0.00918781, -0.03912649, -0.04752431,  0.99806119])"
      ]
     },
     "execution_count": 163,
     "metadata": {},
     "output_type": "execute_result"
    }
   ],
   "source": [
    "quat_diff[0][2]"
   ]
  },
  {
   "cell_type": "code",
   "execution_count": null,
   "id": "c747fc0b",
   "metadata": {},
   "outputs": [],
   "source": []
  }
 ],
 "metadata": {
  "kernelspec": {
   "display_name": "Python 3 (ipykernel)",
   "language": "python",
   "name": "python3"
  },
  "language_info": {
   "codemirror_mode": {
    "name": "ipython",
    "version": 3
   },
   "file_extension": ".py",
   "mimetype": "text/x-python",
   "name": "python",
   "nbconvert_exporter": "python",
   "pygments_lexer": "ipython3",
   "version": "3.10.12"
  }
 },
 "nbformat": 4,
 "nbformat_minor": 5
}
